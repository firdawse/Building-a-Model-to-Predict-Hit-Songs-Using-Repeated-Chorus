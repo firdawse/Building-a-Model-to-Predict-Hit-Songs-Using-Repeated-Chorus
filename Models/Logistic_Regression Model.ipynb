{
  "nbformat": 4,
  "nbformat_minor": 0,
  "metadata": {
    "colab": {
      "provenance": []
    },
    "kernelspec": {
      "name": "python3",
      "display_name": "Python 3"
    },
    "language_info": {
      "name": "python"
    }
  },
  "cells": [
    {
      "cell_type": "markdown",
      "source": [
        "# Logistic Regression"
      ],
      "metadata": {
        "id": "CD4kgI1081FP"
      }
    },
    {
      "cell_type": "code",
      "execution_count": 1,
      "metadata": {
        "id": "HiENSFLC0Xi8"
      },
      "outputs": [],
      "source": [
        "import numpy as np\n",
        "import pandas as pd\n",
        "from sklearn import metrics\n",
        "from sklearn.metrics import f1_score\n",
        "from sklearn.ensemble import BaggingClassifier\n",
        "from sklearn.linear_model import LogisticRegression\n",
        "from sklearn.preprocessing import MinMaxScaler, StandardScaler\n",
        "from sklearn.model_selection import train_test_split, cross_val_score\n",
        "from sklearn.metrics import accuracy_score, confusion_matrix, classification_report, roc_curve, roc_auc_score"
      ]
    },
    {
      "cell_type": "code",
      "source": [
        "data = pd.read_csv(\"../pca_result.csv\")"
      ],
      "metadata": {
        "id": "j0DWH2ep1ZM1"
      },
      "execution_count": 2,
      "outputs": []
    },
    {
      "cell_type": "code",
      "source": [
        "X = data.drop([\"Popularity\"], axis=1)\n",
        "y = data[\"Popularity\"]"
      ],
      "metadata": {
        "id": "HPdrYebj12fQ"
      },
      "execution_count": 3,
      "outputs": []
    },
    {
      "cell_type": "code",
      "source": [
        "scaler = StandardScaler()\n",
        "X_scaled = scaler.fit_transform(X)\n",
        "\n",
        "minmax = MinMaxScaler()\n",
        "X_minmax = minmax.fit_transform(X)"
      ],
      "metadata": {
        "id": "2lTLTnv8GO9h"
      },
      "execution_count": 4,
      "outputs": []
    },
    {
      "cell_type": "markdown",
      "source": [
        "# Using the simplest model"
      ],
      "metadata": {
        "id": "h74C-UUxAVzy"
      }
    },
    {
      "cell_type": "markdown",
      "source": [
        "## Using the X as it is"
      ],
      "metadata": {
        "id": "tc4UjFMUA_lK"
      }
    },
    {
      "cell_type": "code",
      "source": [
        "X_train, X_test, y_train, y_test = train_test_split(X, y, test_size=0.2, random_state=42)"
      ],
      "metadata": {
        "id": "88CUOUHjM1yy"
      },
      "execution_count": 5,
      "outputs": []
    },
    {
      "cell_type": "code",
      "source": [
        "model = LogisticRegression(max_iter=1000)\n",
        "model.fit(X_train, y_train)\n",
        "y_pred = model.predict(X_test)"
      ],
      "metadata": {
        "id": "7moJju8t2JxV"
      },
      "execution_count": 6,
      "outputs": []
    },
    {
      "cell_type": "code",
      "source": [
        "conf_matrix = confusion_matrix(y_test, y_pred)\n",
        "print(\"Confusion Matrix:\")\n",
        "print(conf_matrix)"
      ],
      "metadata": {
        "colab": {
          "base_uri": "https://localhost:8080/"
        },
        "id": "2nXhpoeN9T2Q",
        "outputId": "32ff27b8-0046-4198-f012-f5548982eb00"
      },
      "execution_count": 7,
      "outputs": [
        {
          "output_type": "stream",
          "name": "stdout",
          "text": [
            "Confusion Matrix:\n",
            "[[42 39]\n",
            " [45 39]]\n"
          ]
        }
      ]
    },
    {
      "cell_type": "code",
      "source": [
        "f1_score_value = metrics.f1_score(y_test, y_pred)\n",
        "print('F1 score: {:.2f}'.format(f1_score_value))"
      ],
      "metadata": {
        "colab": {
          "base_uri": "https://localhost:8080/"
        },
        "id": "BIx2uUtN9TqC",
        "outputId": "7520de6a-6d65-4712-b266-428d28efcfa8"
      },
      "execution_count": 8,
      "outputs": [
        {
          "output_type": "stream",
          "name": "stdout",
          "text": [
            "F1 score: 0.48\n"
          ]
        }
      ]
    },
    {
      "cell_type": "code",
      "source": [
        "# Calculate accuracy score\n",
        "accuracy = accuracy_score(y_test, y_pred)\n",
        "print(f\"Accuracy: {accuracy:.2f}\")\n",
        "\n",
        "# Classification report\n",
        "class_report = classification_report(y_test, y_pred)\n",
        "print(\"Classification Report:\")\n",
        "print(class_report)"
      ],
      "metadata": {
        "colab": {
          "base_uri": "https://localhost:8080/"
        },
        "id": "Nyjmo9u491Iu",
        "outputId": "4be46414-258b-438e-facc-53758aec81c7"
      },
      "execution_count": 9,
      "outputs": [
        {
          "output_type": "stream",
          "name": "stdout",
          "text": [
            "Accuracy: 0.49\n",
            "Classification Report:\n",
            "              precision    recall  f1-score   support\n",
            "\n",
            "           0       0.48      0.52      0.50        81\n",
            "           1       0.50      0.46      0.48        84\n",
            "\n",
            "    accuracy                           0.49       165\n",
            "   macro avg       0.49      0.49      0.49       165\n",
            "weighted avg       0.49      0.49      0.49       165\n",
            "\n"
          ]
        }
      ]
    },
    {
      "cell_type": "markdown",
      "source": [
        "## Using scaled data"
      ],
      "metadata": {
        "id": "8yGmWytbBI91"
      }
    },
    {
      "cell_type": "markdown",
      "source": [
        "### Standard scaling"
      ],
      "metadata": {
        "id": "Kpw_SuSnBZmr"
      }
    },
    {
      "cell_type": "code",
      "source": [
        "X_train, X_test, y_train, y_test = train_test_split(X_scaled, y, test_size=0.2, random_state=42)"
      ],
      "metadata": {
        "id": "_Z7xUmknBTSc"
      },
      "execution_count": 10,
      "outputs": []
    },
    {
      "cell_type": "code",
      "source": [
        "model = LogisticRegression(max_iter=1000)\n",
        "model.fit(X_train, y_train)\n",
        "y_pred = model.predict(X_test)"
      ],
      "metadata": {
        "id": "B22QngZgBTSd"
      },
      "execution_count": 11,
      "outputs": []
    },
    {
      "cell_type": "code",
      "source": [
        "conf_matrix = confusion_matrix(y_test, y_pred)\n",
        "print(\"Confusion Matrix:\")\n",
        "print(conf_matrix)"
      ],
      "metadata": {
        "colab": {
          "base_uri": "https://localhost:8080/"
        },
        "outputId": "7bcc347e-f5e6-4af8-b3d0-a0333de86f8b",
        "id": "14pWj3KmBTSe"
      },
      "execution_count": 12,
      "outputs": [
        {
          "output_type": "stream",
          "name": "stdout",
          "text": [
            "Confusion Matrix:\n",
            "[[42 39]\n",
            " [44 40]]\n"
          ]
        }
      ]
    },
    {
      "cell_type": "code",
      "source": [
        "f1_score_value = metrics.f1_score(y_test, y_pred)\n",
        "print('F1 score: {:.2f}'.format(f1_score_value))"
      ],
      "metadata": {
        "colab": {
          "base_uri": "https://localhost:8080/"
        },
        "outputId": "5c8d768a-6fb0-4a44-862f-c05cc36f9a14",
        "id": "vYbWMfnKBTSg"
      },
      "execution_count": 13,
      "outputs": [
        {
          "output_type": "stream",
          "name": "stdout",
          "text": [
            "F1 score: 0.49\n"
          ]
        }
      ]
    },
    {
      "cell_type": "code",
      "source": [
        "# Calculate accuracy score\n",
        "accuracy = accuracy_score(y_test, y_pred)\n",
        "print(f\"Accuracy: {accuracy:.2f}\")\n",
        "\n",
        "# Classification report\n",
        "class_report = classification_report(y_test, y_pred)\n",
        "print(\"Classification Report:\")\n",
        "print(class_report)"
      ],
      "metadata": {
        "colab": {
          "base_uri": "https://localhost:8080/"
        },
        "outputId": "503e0887-7d2a-4d21-a10e-724a9dbacba5",
        "id": "SOHMFlDoBTSh"
      },
      "execution_count": 14,
      "outputs": [
        {
          "output_type": "stream",
          "name": "stdout",
          "text": [
            "Accuracy: 0.50\n",
            "Classification Report:\n",
            "              precision    recall  f1-score   support\n",
            "\n",
            "           0       0.49      0.52      0.50        81\n",
            "           1       0.51      0.48      0.49        84\n",
            "\n",
            "    accuracy                           0.50       165\n",
            "   macro avg       0.50      0.50      0.50       165\n",
            "weighted avg       0.50      0.50      0.50       165\n",
            "\n"
          ]
        }
      ]
    },
    {
      "cell_type": "markdown",
      "source": [
        "### MinMax scaling"
      ],
      "metadata": {
        "id": "PFyDcMIaBdpN"
      }
    },
    {
      "cell_type": "code",
      "source": [
        "X_train, X_test, y_train, y_test = train_test_split(X_minmax, y, test_size=0.2, random_state=42)"
      ],
      "metadata": {
        "id": "e2wIJZtOBoMy"
      },
      "execution_count": 15,
      "outputs": []
    },
    {
      "cell_type": "code",
      "source": [
        "model = LogisticRegression(max_iter=1000)\n",
        "model.fit(X_train, y_train)\n",
        "y_pred = model.predict(X_test)"
      ],
      "metadata": {
        "id": "i6mlZUpsBoM0"
      },
      "execution_count": 16,
      "outputs": []
    },
    {
      "cell_type": "code",
      "source": [
        "conf_matrix = confusion_matrix(y_test, y_pred)\n",
        "print(\"Confusion Matrix:\")\n",
        "print(conf_matrix)"
      ],
      "metadata": {
        "colab": {
          "base_uri": "https://localhost:8080/"
        },
        "outputId": "1dbb6fd8-04e1-40bb-85a2-0a71f8b77639",
        "id": "1O0a60O3BoM1"
      },
      "execution_count": 17,
      "outputs": [
        {
          "output_type": "stream",
          "name": "stdout",
          "text": [
            "Confusion Matrix:\n",
            "[[42 39]\n",
            " [48 36]]\n"
          ]
        }
      ]
    },
    {
      "cell_type": "code",
      "source": [
        "f1_score_value = metrics.f1_score(y_test, y_pred)\n",
        "print('F1 score: {:.2f}'.format(f1_score_value))"
      ],
      "metadata": {
        "colab": {
          "base_uri": "https://localhost:8080/"
        },
        "outputId": "a3885f7e-0765-4696-ddda-336048c3f101",
        "id": "zhfPMKWtBoM3"
      },
      "execution_count": 18,
      "outputs": [
        {
          "output_type": "stream",
          "name": "stdout",
          "text": [
            "F1 score: 0.45\n"
          ]
        }
      ]
    },
    {
      "cell_type": "code",
      "source": [
        "# Calculate accuracy score\n",
        "accuracy = accuracy_score(y_test, y_pred)\n",
        "print(f\"Accuracy: {accuracy:.2f}\")\n",
        "\n",
        "# Classification report\n",
        "class_report = classification_report(y_test, y_pred)\n",
        "print(\"Classification Report:\")\n",
        "print(class_report)"
      ],
      "metadata": {
        "colab": {
          "base_uri": "https://localhost:8080/"
        },
        "outputId": "c190a27d-d303-4f62-f752-0f81ca37e468",
        "id": "6ursyoJBBoM5"
      },
      "execution_count": 19,
      "outputs": [
        {
          "output_type": "stream",
          "name": "stdout",
          "text": [
            "Accuracy: 0.47\n",
            "Classification Report:\n",
            "              precision    recall  f1-score   support\n",
            "\n",
            "           0       0.47      0.52      0.49        81\n",
            "           1       0.48      0.43      0.45        84\n",
            "\n",
            "    accuracy                           0.47       165\n",
            "   macro avg       0.47      0.47      0.47       165\n",
            "weighted avg       0.47      0.47      0.47       165\n",
            "\n"
          ]
        }
      ]
    },
    {
      "cell_type": "markdown",
      "source": [
        "# Using Bagging"
      ],
      "metadata": {
        "id": "bC3BkckVBxGy"
      }
    },
    {
      "cell_type": "markdown",
      "source": [
        "## Using the X as it is"
      ],
      "metadata": {
        "id": "vl_vAwuvB7SA"
      }
    },
    {
      "cell_type": "code",
      "source": [
        "X_train, X_test, y_train, y_test = train_test_split(X, y, test_size=0.2, random_state=42)"
      ],
      "metadata": {
        "id": "O2RO-1O_CEdO"
      },
      "execution_count": 20,
      "outputs": []
    },
    {
      "cell_type": "code",
      "source": [
        "base_model = LogisticRegression(max_iter=1000)\n",
        "\n",
        "bagging_model = BaggingClassifier(estimator=base_model, n_estimators=10, random_state=42)\n",
        "\n",
        "bagging_model.fit(X_train, y_train)\n",
        "\n",
        "y_pred = bagging_model.predict(X_test)"
      ],
      "metadata": {
        "id": "KLeXla3tCEdP"
      },
      "execution_count": 22,
      "outputs": []
    },
    {
      "cell_type": "code",
      "source": [
        "conf_matrix = confusion_matrix(y_test, y_pred)\n",
        "print(\"Confusion Matrix:\")\n",
        "print(conf_matrix)"
      ],
      "metadata": {
        "colab": {
          "base_uri": "https://localhost:8080/"
        },
        "outputId": "6977686c-bd96-47c2-9fb1-0d2587f53b39",
        "id": "WPMhpNJ1CEdQ"
      },
      "execution_count": 23,
      "outputs": [
        {
          "output_type": "stream",
          "name": "stdout",
          "text": [
            "Confusion Matrix:\n",
            "[[42 39]\n",
            " [44 40]]\n"
          ]
        }
      ]
    },
    {
      "cell_type": "code",
      "source": [
        "f1_score_value = metrics.f1_score(y_test, y_pred)\n",
        "print('F1 score: {:.2f}'.format(f1_score_value))"
      ],
      "metadata": {
        "colab": {
          "base_uri": "https://localhost:8080/"
        },
        "outputId": "819d9f28-2b64-4370-ea8c-1663efd7fcbc",
        "id": "Gz6AnZm2CEdR"
      },
      "execution_count": 24,
      "outputs": [
        {
          "output_type": "stream",
          "name": "stdout",
          "text": [
            "F1 score: 0.49\n"
          ]
        }
      ]
    },
    {
      "cell_type": "code",
      "source": [
        "# Calculate accuracy score\n",
        "accuracy = accuracy_score(y_test, y_pred)\n",
        "print(f\"Accuracy: {accuracy:.2f}\")\n",
        "\n",
        "# Classification report\n",
        "class_report = classification_report(y_test, y_pred)\n",
        "print(\"Classification Report:\")\n",
        "print(class_report)"
      ],
      "metadata": {
        "colab": {
          "base_uri": "https://localhost:8080/"
        },
        "outputId": "b17f8e61-2c23-479f-8ef7-25083efc6baf",
        "id": "4TFZsKF9CEdS"
      },
      "execution_count": 25,
      "outputs": [
        {
          "output_type": "stream",
          "name": "stdout",
          "text": [
            "Accuracy: 0.50\n",
            "Classification Report:\n",
            "              precision    recall  f1-score   support\n",
            "\n",
            "           0       0.49      0.52      0.50        81\n",
            "           1       0.51      0.48      0.49        84\n",
            "\n",
            "    accuracy                           0.50       165\n",
            "   macro avg       0.50      0.50      0.50       165\n",
            "weighted avg       0.50      0.50      0.50       165\n",
            "\n"
          ]
        }
      ]
    },
    {
      "cell_type": "markdown",
      "source": [
        "## Using scaled data"
      ],
      "metadata": {
        "id": "IPIv1JRMCg9r"
      }
    },
    {
      "cell_type": "markdown",
      "source": [
        "### Standard scaling"
      ],
      "metadata": {
        "id": "FNMORqD9Cg9s"
      }
    },
    {
      "cell_type": "code",
      "source": [
        "X_train, X_test, y_train, y_test = train_test_split(X_scaled, y, test_size=0.2, random_state=42)"
      ],
      "metadata": {
        "id": "V7VTEes0Cg9t"
      },
      "execution_count": 26,
      "outputs": []
    },
    {
      "cell_type": "code",
      "source": [
        "base_model = LogisticRegression(max_iter=1000)\n",
        "\n",
        "bagging_model = BaggingClassifier(estimator=base_model, n_estimators=10, random_state=42)\n",
        "\n",
        "bagging_model.fit(X_train, y_train)\n",
        "\n",
        "y_pred = bagging_model.predict(X_test)"
      ],
      "metadata": {
        "id": "lwg9WgLkCo8G"
      },
      "execution_count": 28,
      "outputs": []
    },
    {
      "cell_type": "code",
      "source": [
        "conf_matrix = confusion_matrix(y_test, y_pred)\n",
        "print(\"Confusion Matrix:\")\n",
        "print(conf_matrix)"
      ],
      "metadata": {
        "colab": {
          "base_uri": "https://localhost:8080/"
        },
        "outputId": "6c25986f-6302-4722-8791-247eebf4cab2",
        "id": "9C0lT0e3Co9J"
      },
      "execution_count": 29,
      "outputs": [
        {
          "output_type": "stream",
          "name": "stdout",
          "text": [
            "Confusion Matrix:\n",
            "[[42 39]\n",
            " [44 40]]\n"
          ]
        }
      ]
    },
    {
      "cell_type": "code",
      "source": [
        "f1_score_value = metrics.f1_score(y_test, y_pred)\n",
        "print('F1 score: {:.2f}'.format(f1_score_value))"
      ],
      "metadata": {
        "colab": {
          "base_uri": "https://localhost:8080/"
        },
        "outputId": "af41083f-ea95-4745-d281-649e579f75eb",
        "id": "2F4yJFT_Co9K"
      },
      "execution_count": 30,
      "outputs": [
        {
          "output_type": "stream",
          "name": "stdout",
          "text": [
            "F1 score: 0.49\n"
          ]
        }
      ]
    },
    {
      "cell_type": "code",
      "source": [
        "# Calculate accuracy score\n",
        "accuracy = accuracy_score(y_test, y_pred)\n",
        "print(f\"Accuracy: {accuracy:.2f}\")\n",
        "\n",
        "# Classification report\n",
        "class_report = classification_report(y_test, y_pred)\n",
        "print(\"Classification Report:\")\n",
        "print(class_report)"
      ],
      "metadata": {
        "colab": {
          "base_uri": "https://localhost:8080/"
        },
        "outputId": "b0346cc2-9f9c-4e7d-eb0c-34ed2e954fe4",
        "id": "CDqJhCsaCo9L"
      },
      "execution_count": 31,
      "outputs": [
        {
          "output_type": "stream",
          "name": "stdout",
          "text": [
            "Accuracy: 0.50\n",
            "Classification Report:\n",
            "              precision    recall  f1-score   support\n",
            "\n",
            "           0       0.49      0.52      0.50        81\n",
            "           1       0.51      0.48      0.49        84\n",
            "\n",
            "    accuracy                           0.50       165\n",
            "   macro avg       0.50      0.50      0.50       165\n",
            "weighted avg       0.50      0.50      0.50       165\n",
            "\n"
          ]
        }
      ]
    },
    {
      "cell_type": "markdown",
      "source": [
        "### MinMax scaling"
      ],
      "metadata": {
        "id": "2O3sKinCCzmj"
      }
    },
    {
      "cell_type": "code",
      "source": [
        "X_train, X_test, y_train, y_test = train_test_split(X_minmax, y, test_size=0.2, random_state=42)"
      ],
      "metadata": {
        "id": "TwvwhV3MCzmk"
      },
      "execution_count": 32,
      "outputs": []
    },
    {
      "cell_type": "code",
      "source": [
        "base_model = LogisticRegression(max_iter=1000)\n",
        "\n",
        "bagging_model = BaggingClassifier(estimator=base_model, n_estimators=10, random_state=42)\n",
        "\n",
        "bagging_model.fit(X_train, y_train)\n",
        "\n",
        "y_pred = bagging_model.predict(X_test)"
      ],
      "metadata": {
        "id": "O9FstrmmC45b"
      },
      "execution_count": 33,
      "outputs": []
    },
    {
      "cell_type": "code",
      "source": [
        "conf_matrix = confusion_matrix(y_test, y_pred)\n",
        "print(\"Confusion Matrix:\")\n",
        "print(conf_matrix)"
      ],
      "metadata": {
        "colab": {
          "base_uri": "https://localhost:8080/"
        },
        "outputId": "96eabb5b-85e3-4de7-ec28-d5194765fb19",
        "id": "aHfkR94GC459"
      },
      "execution_count": 34,
      "outputs": [
        {
          "output_type": "stream",
          "name": "stdout",
          "text": [
            "Confusion Matrix:\n",
            "[[40 41]\n",
            " [45 39]]\n"
          ]
        }
      ]
    },
    {
      "cell_type": "code",
      "source": [
        "f1_score_value = metrics.f1_score(y_test, y_pred)\n",
        "print('F1 score: {:.2f}'.format(f1_score_value))"
      ],
      "metadata": {
        "colab": {
          "base_uri": "https://localhost:8080/"
        },
        "outputId": "1ec60112-b141-4ae2-96bd-294f83cc87a7",
        "id": "iE9HPCp7C45-"
      },
      "execution_count": 35,
      "outputs": [
        {
          "output_type": "stream",
          "name": "stdout",
          "text": [
            "F1 score: 0.48\n"
          ]
        }
      ]
    },
    {
      "cell_type": "code",
      "source": [
        "# Calculate accuracy score\n",
        "accuracy = accuracy_score(y_test, y_pred)\n",
        "print(f\"Accuracy: {accuracy:.2f}\")\n",
        "\n",
        "# Classification report\n",
        "class_report = classification_report(y_test, y_pred)\n",
        "print(\"Classification Report:\")\n",
        "print(class_report)"
      ],
      "metadata": {
        "colab": {
          "base_uri": "https://localhost:8080/"
        },
        "outputId": "d3104284-db73-402e-966f-f144adf28ce1",
        "id": "XN4tMiseC45_"
      },
      "execution_count": 36,
      "outputs": [
        {
          "output_type": "stream",
          "name": "stdout",
          "text": [
            "Accuracy: 0.48\n",
            "Classification Report:\n",
            "              precision    recall  f1-score   support\n",
            "\n",
            "           0       0.47      0.49      0.48        81\n",
            "           1       0.49      0.46      0.48        84\n",
            "\n",
            "    accuracy                           0.48       165\n",
            "   macro avg       0.48      0.48      0.48       165\n",
            "weighted avg       0.48      0.48      0.48       165\n",
            "\n"
          ]
        }
      ]
    },
    {
      "cell_type": "markdown",
      "source": [
        "As we see, different approaches as Scalling the data and using Bagging in modeling  .. Desn't seem to make much different.\n",
        "So, to keep it Simple .. we may Scale the data by Standard scaling , and use the simplist form of the model."
      ],
      "metadata": {
        "id": "zPcg2pPPDpcH"
      }
    },
    {
      "cell_type": "markdown",
      "source": [
        "And the best Accuracy we've got is 50%\n",
        "with f1 score = 0.50"
      ],
      "metadata": {
        "id": "B5mqBP6PFXjh"
      }
    }
  ]
}