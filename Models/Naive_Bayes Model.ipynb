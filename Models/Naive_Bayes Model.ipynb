{
 "cells": [
  {
   "cell_type": "markdown",
   "id": "e87e7e49",
   "metadata": {},
   "source": [
    "# Naive Bayes"
   ]
  },
  {
   "cell_type": "code",
   "execution_count": 1,
   "id": "8af9e25f",
   "metadata": {},
   "outputs": [],
   "source": [
    "import numpy as np\n",
    "import pandas as pd\n",
    "from sklearn import metrics\n",
    "from sklearn.pipeline import Pipeline\n",
    "from sklearn.metrics import classification_report\n",
    "from sklearn.model_selection import train_test_split\n",
    "from sklearn.naive_bayes import GaussianNB , BernoulliNB , MultinomialNB , ComplementNB\n",
    "\n",
    "from sklearn.model_selection import train_test_split"
   ]
  },
  {
   "cell_type": "markdown",
   "id": "f60ef494",
   "metadata": {},
   "source": [
    "### Importing Data"
   ]
  },
  {
   "cell_type": "code",
   "execution_count": 2,
   "id": "2136c09b",
   "metadata": {},
   "outputs": [],
   "source": [
    "df = pd.read_csv('pca_result_final.csv')"
   ]
  },
  {
   "cell_type": "markdown",
   "id": "cafb4fad",
   "metadata": {},
   "source": [
    "### Spliting the data"
   ]
  },
  {
   "cell_type": "code",
   "execution_count": 54,
   "id": "a23b8dab",
   "metadata": {},
   "outputs": [
    {
     "data": {
      "text/html": [
       "<div>\n",
       "<style scoped>\n",
       "    .dataframe tbody tr th:only-of-type {\n",
       "        vertical-align: middle;\n",
       "    }\n",
       "\n",
       "    .dataframe tbody tr th {\n",
       "        vertical-align: top;\n",
       "    }\n",
       "\n",
       "    .dataframe thead th {\n",
       "        text-align: right;\n",
       "    }\n",
       "</style>\n",
       "<table border=\"1\" class=\"dataframe\">\n",
       "  <thead>\n",
       "    <tr style=\"text-align: right;\">\n",
       "      <th></th>\n",
       "      <th>PCA_Component_1</th>\n",
       "      <th>PCA_Component_2</th>\n",
       "      <th>PCA_Component_3</th>\n",
       "      <th>PCA_Component_4</th>\n",
       "      <th>PCA_Component_5</th>\n",
       "      <th>PCA_Component_6</th>\n",
       "      <th>PCA_Component_7</th>\n",
       "      <th>PCA_Component_8</th>\n",
       "      <th>PCA_Component_9</th>\n",
       "      <th>PCA_Component_10</th>\n",
       "      <th>...</th>\n",
       "      <th>PCA_Component_163</th>\n",
       "      <th>PCA_Component_164</th>\n",
       "      <th>PCA_Component_165</th>\n",
       "      <th>PCA_Component_166</th>\n",
       "      <th>PCA_Component_167</th>\n",
       "      <th>PCA_Component_168</th>\n",
       "      <th>PCA_Component_169</th>\n",
       "      <th>PCA_Component_170</th>\n",
       "      <th>PCA_Component_171</th>\n",
       "      <th>PCA_Component_172</th>\n",
       "    </tr>\n",
       "  </thead>\n",
       "  <tbody>\n",
       "    <tr>\n",
       "      <th>0</th>\n",
       "      <td>1.192585</td>\n",
       "      <td>-0.493574</td>\n",
       "      <td>8.113930</td>\n",
       "      <td>-1.569679</td>\n",
       "      <td>9.788204</td>\n",
       "      <td>3.487335</td>\n",
       "      <td>-1.672694</td>\n",
       "      <td>-6.586220</td>\n",
       "      <td>2.060303</td>\n",
       "      <td>-2.422188</td>\n",
       "      <td>...</td>\n",
       "      <td>-0.482095</td>\n",
       "      <td>0.332489</td>\n",
       "      <td>0.464386</td>\n",
       "      <td>1.230539</td>\n",
       "      <td>-0.611371</td>\n",
       "      <td>-1.115768</td>\n",
       "      <td>-0.399166</td>\n",
       "      <td>-0.285042</td>\n",
       "      <td>0.455709</td>\n",
       "      <td>-1.238018</td>\n",
       "    </tr>\n",
       "    <tr>\n",
       "      <th>1</th>\n",
       "      <td>-1.493374</td>\n",
       "      <td>-9.659196</td>\n",
       "      <td>2.974541</td>\n",
       "      <td>-3.565624</td>\n",
       "      <td>3.383301</td>\n",
       "      <td>2.762491</td>\n",
       "      <td>3.480449</td>\n",
       "      <td>-1.408709</td>\n",
       "      <td>-0.504872</td>\n",
       "      <td>-0.748474</td>\n",
       "      <td>...</td>\n",
       "      <td>1.652883</td>\n",
       "      <td>0.230533</td>\n",
       "      <td>0.967106</td>\n",
       "      <td>0.264426</td>\n",
       "      <td>-0.935155</td>\n",
       "      <td>-0.658395</td>\n",
       "      <td>0.377542</td>\n",
       "      <td>0.806267</td>\n",
       "      <td>1.176376</td>\n",
       "      <td>-0.151016</td>\n",
       "    </tr>\n",
       "    <tr>\n",
       "      <th>2</th>\n",
       "      <td>-1.832774</td>\n",
       "      <td>0.307272</td>\n",
       "      <td>-5.421584</td>\n",
       "      <td>6.261786</td>\n",
       "      <td>1.019203</td>\n",
       "      <td>-4.947854</td>\n",
       "      <td>2.723812</td>\n",
       "      <td>-3.359720</td>\n",
       "      <td>-1.739612</td>\n",
       "      <td>0.619791</td>\n",
       "      <td>...</td>\n",
       "      <td>-0.886912</td>\n",
       "      <td>0.016115</td>\n",
       "      <td>0.833454</td>\n",
       "      <td>-0.318620</td>\n",
       "      <td>-0.727655</td>\n",
       "      <td>-0.359413</td>\n",
       "      <td>0.438661</td>\n",
       "      <td>-0.309570</td>\n",
       "      <td>0.322236</td>\n",
       "      <td>-0.134751</td>\n",
       "    </tr>\n",
       "    <tr>\n",
       "      <th>3</th>\n",
       "      <td>-6.957596</td>\n",
       "      <td>-0.672203</td>\n",
       "      <td>3.249920</td>\n",
       "      <td>4.851568</td>\n",
       "      <td>-8.300714</td>\n",
       "      <td>-1.215876</td>\n",
       "      <td>1.459186</td>\n",
       "      <td>-2.817143</td>\n",
       "      <td>-4.418289</td>\n",
       "      <td>2.908513</td>\n",
       "      <td>...</td>\n",
       "      <td>-0.368224</td>\n",
       "      <td>0.458964</td>\n",
       "      <td>-1.335819</td>\n",
       "      <td>-0.746145</td>\n",
       "      <td>0.563348</td>\n",
       "      <td>0.354818</td>\n",
       "      <td>0.062782</td>\n",
       "      <td>0.186058</td>\n",
       "      <td>0.882891</td>\n",
       "      <td>-0.052429</td>\n",
       "    </tr>\n",
       "    <tr>\n",
       "      <th>4</th>\n",
       "      <td>3.871830</td>\n",
       "      <td>-6.572552</td>\n",
       "      <td>-3.034643</td>\n",
       "      <td>-5.986337</td>\n",
       "      <td>-1.911559</td>\n",
       "      <td>-5.172729</td>\n",
       "      <td>-3.186945</td>\n",
       "      <td>1.327184</td>\n",
       "      <td>1.572709</td>\n",
       "      <td>3.002748</td>\n",
       "      <td>...</td>\n",
       "      <td>-0.235406</td>\n",
       "      <td>0.698061</td>\n",
       "      <td>0.952425</td>\n",
       "      <td>-0.402112</td>\n",
       "      <td>-0.145772</td>\n",
       "      <td>0.575649</td>\n",
       "      <td>0.325662</td>\n",
       "      <td>0.237017</td>\n",
       "      <td>-0.473411</td>\n",
       "      <td>-0.181295</td>\n",
       "    </tr>\n",
       "  </tbody>\n",
       "</table>\n",
       "<p>5 rows × 172 columns</p>\n",
       "</div>"
      ],
      "text/plain": [
       "   PCA_Component_1  PCA_Component_2  PCA_Component_3  PCA_Component_4  \\\n",
       "0         1.192585        -0.493574         8.113930        -1.569679   \n",
       "1        -1.493374        -9.659196         2.974541        -3.565624   \n",
       "2        -1.832774         0.307272        -5.421584         6.261786   \n",
       "3        -6.957596        -0.672203         3.249920         4.851568   \n",
       "4         3.871830        -6.572552        -3.034643        -5.986337   \n",
       "\n",
       "   PCA_Component_5  PCA_Component_6  PCA_Component_7  PCA_Component_8  \\\n",
       "0         9.788204         3.487335        -1.672694        -6.586220   \n",
       "1         3.383301         2.762491         3.480449        -1.408709   \n",
       "2         1.019203        -4.947854         2.723812        -3.359720   \n",
       "3        -8.300714        -1.215876         1.459186        -2.817143   \n",
       "4        -1.911559        -5.172729        -3.186945         1.327184   \n",
       "\n",
       "   PCA_Component_9  PCA_Component_10  ...  PCA_Component_163  \\\n",
       "0         2.060303         -2.422188  ...          -0.482095   \n",
       "1        -0.504872         -0.748474  ...           1.652883   \n",
       "2        -1.739612          0.619791  ...          -0.886912   \n",
       "3        -4.418289          2.908513  ...          -0.368224   \n",
       "4         1.572709          3.002748  ...          -0.235406   \n",
       "\n",
       "   PCA_Component_164  PCA_Component_165  PCA_Component_166  PCA_Component_167  \\\n",
       "0           0.332489           0.464386           1.230539          -0.611371   \n",
       "1           0.230533           0.967106           0.264426          -0.935155   \n",
       "2           0.016115           0.833454          -0.318620          -0.727655   \n",
       "3           0.458964          -1.335819          -0.746145           0.563348   \n",
       "4           0.698061           0.952425          -0.402112          -0.145772   \n",
       "\n",
       "   PCA_Component_168  PCA_Component_169  PCA_Component_170  PCA_Component_171  \\\n",
       "0          -1.115768          -0.399166          -0.285042           0.455709   \n",
       "1          -0.658395           0.377542           0.806267           1.176376   \n",
       "2          -0.359413           0.438661          -0.309570           0.322236   \n",
       "3           0.354818           0.062782           0.186058           0.882891   \n",
       "4           0.575649           0.325662           0.237017          -0.473411   \n",
       "\n",
       "   PCA_Component_172  \n",
       "0          -1.238018  \n",
       "1          -0.151016  \n",
       "2          -0.134751  \n",
       "3          -0.052429  \n",
       "4          -0.181295  \n",
       "\n",
       "[5 rows x 172 columns]"
      ]
     },
     "execution_count": 54,
     "metadata": {},
     "output_type": "execute_result"
    }
   ],
   "source": [
    "y = df['Popularity']\n",
    "X = df.iloc[:, :-1]\n",
    "X.head()"
   ]
  },
  {
   "cell_type": "code",
   "execution_count": 55,
   "id": "25ef9b63",
   "metadata": {},
   "outputs": [],
   "source": [
    "X_train, X_test, y_train, y_test = train_test_split(X, y, test_size = 0.2, random_state = 28)"
   ]
  },
  {
   "cell_type": "markdown",
   "id": "ce579db6",
   "metadata": {},
   "source": [
    "## Gaussian Naive Bayes Model"
   ]
  },
  {
   "cell_type": "code",
   "execution_count": 56,
   "id": "1efff6c6",
   "metadata": {},
   "outputs": [
    {
     "name": "stdout",
     "output_type": "stream",
     "text": [
      "F1 score: 0.63\n"
     ]
    }
   ],
   "source": [
    "GNBM = GaussianNB()\n",
    "GNBM.fit(X_train, y_train)\n",
    "y_pred = GNBM.predict(X_test)\n",
    "f1_score_value = metrics.f1_score(y_test, y_pred)\n",
    "print('F1 score: {:.2f}'.format(f1_score_value))"
   ]
  },
  {
   "cell_type": "code",
   "execution_count": 6,
   "id": "ce62945e",
   "metadata": {},
   "outputs": [
    {
     "name": "stdout",
     "output_type": "stream",
     "text": [
      "              precision    recall  f1-score   support\n",
      "\n",
      "           0       0.48      0.46      0.47        69\n",
      "           1       0.62      0.64      0.63        96\n",
      "\n",
      "    accuracy                           0.56       165\n",
      "   macro avg       0.55      0.55      0.55       165\n",
      "weighted avg       0.56      0.56      0.56       165\n",
      "\n"
     ]
    }
   ],
   "source": [
    "print(classification_report(y_test, y_pred, labels=[0, 1]))"
   ]
  },
  {
   "cell_type": "markdown",
   "id": "3c560b8a",
   "metadata": {},
   "source": [
    "### Plotting ROC "
   ]
  },
  {
   "cell_type": "code",
   "execution_count": 7,
   "id": "22842778",
   "metadata": {},
   "outputs": [
    {
     "data": {
      "image/png": "[encoded data removed]",
      "text/plain": [
       "<Figure size 640x480 with 1 Axes>"
      ]
     },
     "metadata": {},
     "output_type": "display_data"
    }
   ],
   "source": [
    "from sklearn.metrics import roc_curve, roc_auc_score\n",
    "from sklearn.preprocessing import label_binarize\n",
    "import matplotlib.pyplot as plt\n",
    "\n",
    "auc_score = roc_auc_score(y_test, GNBM.predict(X_test))\n",
    "fpr, tpr, thresholds = roc_curve(y_test, GNBM.predict_proba(X_test)[:,1])\n",
    "plt.figure()\n",
    "plt.plot(fpr,tpr,label = 'logistic regression' )\n",
    "plt.plot([0, 1], [0, 1], color='red', linestyle='--', lw=2)\n",
    "plt.xlim([0.0, 1.0])\n",
    "plt.ylim([0.0, 1.05])\n",
    "plt.xlabel('False Positive Rate')\n",
    "plt.ylabel('True Positive Rate')\n",
    "plt.title('logistic regression (ROC) Curve')\n",
    "plt.legend(loc='lower right')\n",
    "plt.grid(True)\n",
    "plt.show()"
   ]
  },
  {
   "cell_type": "markdown",
   "id": "d8de64c9",
   "metadata": {},
   "source": [
    "#### Plotting confusion_matrix "
   ]
  },
  {
   "cell_type": "code",
   "execution_count": 8,
   "id": "e7c88124",
   "metadata": {},
   "outputs": [
    {
     "data": {
      "text/plain": [
       "Text(95.72222222222221, 0.5, 'Truth')"
      ]
     },
     "execution_count": 8,
     "metadata": {},
     "output_type": "execute_result"
    },
    {
     "data": {
      "image/png": "[encoded data removed]",
      "text/plain": [
       "<Figure size 1000x700 with 2 Axes>"
      ]
     },
     "metadata": {},
     "output_type": "display_data"
    }
   ],
   "source": [
    "import seaborn as sn\n",
    "import matplotlib.pyplot as plt\n",
    "from sklearn.metrics import confusion_matrix\n",
    "cm = confusion_matrix(y_test, y_pred)\n",
    "plt.figure(figsize = (10, 7))\n",
    "sn.heatmap(cm, annot = True)\n",
    "plt.xlabel('predicted')\n",
    "plt.ylabel('Truth')"
   ]
  },
  {
   "cell_type": "markdown",
   "id": "113313ee",
   "metadata": {},
   "source": [
    "## Try other Naive Bayes Model"
   ]
  },
  {
   "cell_type": "markdown",
   "id": "3e7069db",
   "metadata": {},
   "source": [
    "### Bernoulli Naive Bayes Model"
   ]
  },
  {
   "cell_type": "code",
   "execution_count": 16,
   "id": "43de0171",
   "metadata": {},
   "outputs": [
    {
     "name": "stdout",
     "output_type": "stream",
     "text": [
      "F1 score:  0.5411764705882353\n"
     ]
    }
   ],
   "source": [
    "BNBM = BernoulliNB()\n",
    "BNBM.fit(X_train, y_train)\n",
    "y_pred = BNBM.predict(X_test)\n",
    "print('F1 score: ', metrics.f1_score(y_test,y_pred))"
   ]
  },
  {
   "cell_type": "code",
   "execution_count": 17,
   "id": "168cf561",
   "metadata": {},
   "outputs": [
    {
     "name": "stdout",
     "output_type": "stream",
     "text": [
      "              precision    recall  f1-score   support\n",
      "\n",
      "           0       0.45      0.59      0.51        69\n",
      "           1       0.62      0.48      0.54        96\n",
      "\n",
      "    accuracy                           0.53       165\n",
      "   macro avg       0.54      0.54      0.53       165\n",
      "weighted avg       0.55      0.53      0.53       165\n",
      "\n"
     ]
    }
   ],
   "source": [
    "print(classification_report(y_test, y_pred, labels=[0, 1]))"
   ]
  },
  {
   "cell_type": "markdown",
   "id": "d4da90f8",
   "metadata": {},
   "source": [
    "#### Plotting confusion_matrix "
   ]
  },
  {
   "cell_type": "code",
   "execution_count": 18,
   "id": "5d0124b7",
   "metadata": {},
   "outputs": [
    {
     "data": {
      "text/plain": [
       "Text(95.72222222222221, 0.5, 'Truth')"
      ]
     },
     "execution_count": 18,
     "metadata": {},
     "output_type": "execute_result"
    },
    {
     "data": {
      "image/png": "[encoded data removed]",
      "text/plain": [
       "<Figure size 1000x700 with 2 Axes>"
      ]
     },
     "metadata": {},
     "output_type": "display_data"
    }
   ],
   "source": [
    "import seaborn as sn\n",
    "import matplotlib.pyplot as plt\n",
    "from sklearn.metrics import confusion_matrix\n",
    "cm = confusion_matrix(y_test, y_pred)\n",
    "plt.figure(figsize = (10, 7))\n",
    "sn.heatmap(cm, annot = True)\n",
    "plt.xlabel('predicted')\n",
    "plt.ylabel('Truth')"
   ]
  },
  {
   "cell_type": "markdown",
   "id": "24e448fd",
   "metadata": {},
   "source": [
    "This had a less f1_score than the Gaussian.\n",
    "\n",
    "\n",
    "The other Naive Bayes Models do not work with negative values exist in the data, so I will try them when using the MinMaxScaler Later down"
   ]
  },
  {
   "cell_type": "markdown",
   "id": "4fd5f877",
   "metadata": {},
   "source": [
    "## Now trying To inprove the model preformance (hyperparameter tuning)"
   ]
  },
  {
   "cell_type": "markdown",
   "id": "8404ba13",
   "metadata": {},
   "source": [
    "### Trying Scaling the data"
   ]
  },
  {
   "cell_type": "markdown",
   "id": "4fbbdbc4",
   "metadata": {},
   "source": [
    "#### StanderdScaler"
   ]
  },
  {
   "cell_type": "code",
   "execution_count": 19,
   "id": "5c0aa4aa",
   "metadata": {},
   "outputs": [],
   "source": [
    "from sklearn.preprocessing import StandardScaler\n",
    "scaler = StandardScaler()\n",
    "X_train_scaled = scaler.fit_transform(X_train)\n",
    "X_test_scaled = scaler.transform(X_test)"
   ]
  },
  {
   "cell_type": "code",
   "execution_count": 20,
   "id": "88baaae4",
   "metadata": {},
   "outputs": [
    {
     "name": "stdout",
     "output_type": "stream",
     "text": [
      "F1 score: 0.63\n"
     ]
    }
   ],
   "source": [
    "GNBMS = GaussianNB()\n",
    "GNBMS.fit(X_train_scaled, y_train)\n",
    "y_pred = GNBMS.predict(X_test_scaled)\n",
    "f1_score_value = metrics.f1_score(y_test, y_pred)\n",
    "print('F1 score: {:.2f}'.format(f1_score_value))"
   ]
  },
  {
   "cell_type": "code",
   "execution_count": 22,
   "id": "16a0e12f",
   "metadata": {},
   "outputs": [
    {
     "name": "stdout",
     "output_type": "stream",
     "text": [
      "              precision    recall  f1-score   support\n",
      "\n",
      "           0       0.48      0.46      0.47        69\n",
      "           1       0.62      0.64      0.63        96\n",
      "\n",
      "    accuracy                           0.56       165\n",
      "   macro avg       0.55      0.55      0.55       165\n",
      "weighted avg       0.56      0.56      0.56       165\n",
      "\n"
     ]
    }
   ],
   "source": [
    "print(classification_report(y_test, y_pred, labels=[0, 1]))"
   ]
  },
  {
   "cell_type": "markdown",
   "id": "2ce89e21",
   "metadata": {},
   "source": [
    "#### Plotting confusion_matrix "
   ]
  },
  {
   "cell_type": "code",
   "execution_count": 23,
   "id": "98362727",
   "metadata": {},
   "outputs": [
    {
     "data": {
      "text/plain": [
       "Text(95.72222222222221, 0.5, 'Truth')"
      ]
     },
     "execution_count": 23,
     "metadata": {},
     "output_type": "execute_result"
    },
    {
     "data": {
      "image/png": "[encoded data removed]",
      "text/plain": [
       "<Figure size 1000x700 with 2 Axes>"
      ]
     },
     "metadata": {},
     "output_type": "display_data"
    }
   ],
   "source": [
    "import seaborn as sn\n",
    "import matplotlib.pyplot as plt\n",
    "from sklearn.metrics import confusion_matrix\n",
    "cm = confusion_matrix(y_test, y_pred)\n",
    "plt.figure(figsize = (10, 7))\n",
    "sn.heatmap(cm, annot = True)\n",
    "plt.xlabel('predicted')\n",
    "plt.ylabel('Truth')"
   ]
  },
  {
   "cell_type": "markdown",
   "id": "25cae1e6",
   "metadata": {},
   "source": [
    "StandardScaler do nothing to improve the model's f1_score"
   ]
  },
  {
   "cell_type": "markdown",
   "id": "62e72e70",
   "metadata": {},
   "source": [
    "#### MinMaxScaler"
   ]
  },
  {
   "cell_type": "code",
   "execution_count": 24,
   "id": "27140b4e",
   "metadata": {},
   "outputs": [],
   "source": [
    "from sklearn.preprocessing import MinMaxScaler\n",
    "scaler = MinMaxScaler()\n",
    "X_train_scaled = scaler.fit_transform(X_train)\n",
    "X_test_scaled = scaler.transform(X_test)"
   ]
  },
  {
   "cell_type": "code",
   "execution_count": 25,
   "id": "1b6e1b51",
   "metadata": {},
   "outputs": [
    {
     "name": "stdout",
     "output_type": "stream",
     "text": [
      "F1 score: 0.63\n"
     ]
    }
   ],
   "source": [
    "GNBMS = GaussianNB()\n",
    "GNBMS.fit(X_train_scaled, y_train)\n",
    "y_pred = GNBMS.predict(X_test_scaled)\n",
    "f1_score_value = metrics.f1_score(y_test, y_pred)\n",
    "print('F1 score: {:.2f}'.format(f1_score_value))"
   ]
  },
  {
   "cell_type": "code",
   "execution_count": 26,
   "id": "ef121b09",
   "metadata": {},
   "outputs": [
    {
     "name": "stdout",
     "output_type": "stream",
     "text": [
      "              precision    recall  f1-score   support\n",
      "\n",
      "           0       0.48      0.46      0.47        69\n",
      "           1       0.62      0.64      0.63        96\n",
      "\n",
      "    accuracy                           0.56       165\n",
      "   macro avg       0.55      0.55      0.55       165\n",
      "weighted avg       0.56      0.56      0.56       165\n",
      "\n"
     ]
    }
   ],
   "source": [
    "print(classification_report(y_test, y_pred, labels=[0, 1]))"
   ]
  },
  {
   "cell_type": "markdown",
   "id": "212b4550",
   "metadata": {},
   "source": [
    "#### Plotting confusion_matrix "
   ]
  },
  {
   "cell_type": "code",
   "execution_count": 27,
   "id": "c58f2eb9",
   "metadata": {},
   "outputs": [
    {
     "data": {
      "text/plain": [
       "Text(95.72222222222221, 0.5, 'Truth')"
      ]
     },
     "execution_count": 27,
     "metadata": {},
     "output_type": "execute_result"
    },
    {
     "data": {
      "image/png": "[encoded data removed]",
      "text/plain": [
       "<Figure size 1000x700 with 2 Axes>"
      ]
     },
     "metadata": {},
     "output_type": "display_data"
    }
   ],
   "source": [
    "import seaborn as sn\n",
    "import matplotlib.pyplot as plt\n",
    "from sklearn.metrics import confusion_matrix\n",
    "cm = confusion_matrix(y_test, y_pred)\n",
    "plt.figure(figsize = (10, 7))\n",
    "sn.heatmap(cm, annot = True)\n",
    "plt.xlabel('predicted')\n",
    "plt.ylabel('Truth')"
   ]
  },
  {
   "cell_type": "markdown",
   "id": "01dc2418",
   "metadata": {},
   "source": [
    "MinMaxScaler do nothing to improve the model f1_score"
   ]
  },
  {
   "cell_type": "markdown",
   "id": "7245541a",
   "metadata": {},
   "source": [
    "**--------------------------------------------------------------------------------------------------------------------------------------------------------------------------------------------------**"
   ]
  },
  {
   "cell_type": "markdown",
   "id": "af2e20ed",
   "metadata": {},
   "source": [
    "Here we will try to use the other types of Naive Bayes Models"
   ]
  },
  {
   "cell_type": "markdown",
   "id": "52282d9e",
   "metadata": {},
   "source": [
    "Multinomial Naive Bayes"
   ]
  },
  {
   "cell_type": "code",
   "execution_count": 28,
   "id": "6f3c570e",
   "metadata": {},
   "outputs": [
    {
     "name": "stdout",
     "output_type": "stream",
     "text": [
      "F1 score: 0.04\n"
     ]
    }
   ],
   "source": [
    "MNBMS = MultinomialNB()\n",
    "MNBMS.fit(X_train_scaled, y_train)\n",
    "y_pred = MNBMS.predict(X_test_scaled)\n",
    "f1_score_value = metrics.f1_score(y_test, y_pred)\n",
    "print('F1 score: {:.2f}'.format(f1_score_value))"
   ]
  },
  {
   "cell_type": "code",
   "execution_count": 29,
   "id": "00985a1b",
   "metadata": {},
   "outputs": [
    {
     "name": "stdout",
     "output_type": "stream",
     "text": [
      "              precision    recall  f1-score   support\n",
      "\n",
      "           0       0.42      0.99      0.59        69\n",
      "           1       0.67      0.02      0.04        96\n",
      "\n",
      "    accuracy                           0.42       165\n",
      "   macro avg       0.54      0.50      0.31       165\n",
      "weighted avg       0.56      0.42      0.27       165\n",
      "\n"
     ]
    }
   ],
   "source": [
    "print(classification_report(y_test, y_pred, labels=[0, 1]))"
   ]
  },
  {
   "cell_type": "markdown",
   "id": "5870ace4",
   "metadata": {},
   "source": [
    "#### Plotting confusion_matrix "
   ]
  },
  {
   "cell_type": "code",
   "execution_count": 30,
   "id": "c8e03fcb",
   "metadata": {},
   "outputs": [
    {
     "data": {
      "text/plain": [
       "Text(95.72222222222221, 0.5, 'Truth')"
      ]
     },
     "execution_count": 30,
     "metadata": {},
     "output_type": "execute_result"
    },
    {
     "data": {
      "image/png": "[encoded data removed]",
      "text/plain": [
       "<Figure size 1000x700 with 2 Axes>"
      ]
     },
     "metadata": {},
     "output_type": "display_data"
    }
   ],
   "source": [
    "import seaborn as sn\n",
    "import matplotlib.pyplot as plt\n",
    "from sklearn.metrics import confusion_matrix\n",
    "cm = confusion_matrix(y_test, y_pred)\n",
    "plt.figure(figsize = (10, 7))\n",
    "sn.heatmap(cm, annot = True)\n",
    "plt.xlabel('predicted')\n",
    "plt.ylabel('Truth')"
   ]
  },
  {
   "cell_type": "markdown",
   "id": "e422c0a5",
   "metadata": {},
   "source": [
    "MultinomialNB makes the f1_score very bad"
   ]
  },
  {
   "cell_type": "markdown",
   "id": "6f791dc5",
   "metadata": {},
   "source": [
    "----------------------------------------------------------------------------------------------------------------------------------------------------------------------------------------------------------------"
   ]
  },
  {
   "cell_type": "markdown",
   "id": "30d941ea",
   "metadata": {},
   "source": [
    "Complement Naive Bayes"
   ]
  },
  {
   "cell_type": "code",
   "execution_count": 31,
   "id": "ad7d6e0f",
   "metadata": {},
   "outputs": [
    {
     "name": "stdout",
     "output_type": "stream",
     "text": [
      "F1 score: 0.56\n"
     ]
    }
   ],
   "source": [
    "CNBMS = ComplementNB()\n",
    "CNBMS.fit(X_train_scaled, y_train)\n",
    "y_pred = CNBMS.predict(X_test_scaled)\n",
    "f1_score_value = metrics.f1_score(y_test, y_pred)\n",
    "print('F1 score: {:.2f}'.format(f1_score_value))"
   ]
  },
  {
   "cell_type": "code",
   "execution_count": 32,
   "id": "e75e337f",
   "metadata": {},
   "outputs": [
    {
     "name": "stdout",
     "output_type": "stream",
     "text": [
      "              precision    recall  f1-score   support\n",
      "\n",
      "           0       0.45      0.55      0.50        69\n",
      "           1       0.62      0.52      0.56        96\n",
      "\n",
      "    accuracy                           0.53       165\n",
      "   macro avg       0.53      0.54      0.53       165\n",
      "weighted avg       0.55      0.53      0.54       165\n",
      "\n"
     ]
    }
   ],
   "source": [
    "print(classification_report(y_test, y_pred, labels=[0, 1]))"
   ]
  },
  {
   "cell_type": "markdown",
   "id": "cf7f3b75",
   "metadata": {},
   "source": [
    "#### Plotting confusion_matrix "
   ]
  },
  {
   "cell_type": "code",
   "execution_count": 33,
   "id": "9ada2706",
   "metadata": {},
   "outputs": [
    {
     "data": {
      "text/plain": [
       "Text(95.72222222222221, 0.5, 'Truth')"
      ]
     },
     "execution_count": 33,
     "metadata": {},
     "output_type": "execute_result"
    },
    {
     "data": {
      "image/png": "[encoded data removed]",
      "text/plain": [
       "<Figure size 1000x700 with 2 Axes>"
      ]
     },
     "metadata": {},
     "output_type": "display_data"
    }
   ],
   "source": [
    "import seaborn as sn\n",
    "import matplotlib.pyplot as plt\n",
    "from sklearn.metrics import confusion_matrix\n",
    "cm = confusion_matrix(y_test, y_pred)\n",
    "plt.figure(figsize = (10, 7))\n",
    "sn.heatmap(cm, annot = True)\n",
    "plt.xlabel('predicted')\n",
    "plt.ylabel('Truth')"
   ]
  },
  {
   "cell_type": "markdown",
   "id": "12c471ac",
   "metadata": {},
   "source": [
    "ComplementNB do not make the situation more good"
   ]
  },
  {
   "cell_type": "markdown",
   "id": "7e40d2d6",
   "metadata": {},
   "source": [
    "### Try the bagging technique to improve the f1_score"
   ]
  },
  {
   "cell_type": "code",
   "execution_count": 34,
   "id": "94e68327",
   "metadata": {},
   "outputs": [],
   "source": [
    "from sklearn.ensemble import BaggingClassifier\n",
    "\n",
    "X_train, X_test, y_train, y_test = train_test_split(X, y, test_size=0.2, random_state=28)\n",
    "\n",
    "base_model = GaussianNB()\n",
    "\n",
    "bagging_model = BaggingClassifier(base_model, n_estimators=10, random_state=28)\n",
    "\n",
    "bagging_model.fit(X_train, y_train)\n",
    "\n",
    "y_pred = bagging_model.predict(X_test)"
   ]
  },
  {
   "cell_type": "code",
   "execution_count": 35,
   "id": "c9a2f2b6",
   "metadata": {},
   "outputs": [
    {
     "name": "stdout",
     "output_type": "stream",
     "text": [
      "              precision    recall  f1-score   support\n",
      "\n",
      "           0       0.47      0.51      0.49        69\n",
      "           1       0.62      0.58      0.60        96\n",
      "\n",
      "    accuracy                           0.55       165\n",
      "   macro avg       0.54      0.55      0.54       165\n",
      "weighted avg       0.56      0.55      0.55       165\n",
      "\n"
     ]
    }
   ],
   "source": [
    "print(classification_report(y_test, y_pred, labels=[0, 1]))"
   ]
  },
  {
   "cell_type": "markdown",
   "id": "b2ce9051",
   "metadata": {},
   "source": [
    "#### Plotting confusion_matrix "
   ]
  },
  {
   "cell_type": "code",
   "execution_count": 36,
   "id": "b85aaa27",
   "metadata": {},
   "outputs": [
    {
     "data": {
      "text/plain": [
       "Text(95.72222222222221, 0.5, 'Truth')"
      ]
     },
     "execution_count": 36,
     "metadata": {},
     "output_type": "execute_result"
    },
    {
     "data": {
      "image/png": "[encoded data removed]",
      "text/plain": [
       "<Figure size 1000x700 with 2 Axes>"
      ]
     },
     "metadata": {},
     "output_type": "display_data"
    }
   ],
   "source": [
    "import seaborn as sn\n",
    "import matplotlib.pyplot as plt\n",
    "from sklearn.metrics import confusion_matrix\n",
    "cm = confusion_matrix(y_test, y_pred)\n",
    "plt.figure(figsize = (10, 7))\n",
    "sn.heatmap(cm, annot = True)\n",
    "plt.xlabel('predicted')\n",
    "plt.ylabel('Truth')"
   ]
  },
  {
   "cell_type": "markdown",
   "id": "3c94808e",
   "metadata": {},
   "source": [
    "here the pagging leads to:\n",
    "> f1_score for class 1 become 60% insted of 63%\n",
    "\n",
    "\n",
    "> f1_score for class 0 become 49% insted of 47%\n",
    "\n",
    "\n",
    "so bagging make the situation worth"
   ]
  },
  {
   "cell_type": "markdown",
   "id": "e9b87e1f",
   "metadata": {},
   "source": [
    "### As we see before the GaussianNB is the best one to work with so now we will try to improve it"
   ]
  },
  {
   "cell_type": "markdown",
   "id": "05e68bc3",
   "metadata": {},
   "source": [
    "### The Grid Search technique to improve the f1_score"
   ]
  },
  {
   "cell_type": "code",
   "execution_count": 37,
   "id": "ec52425e",
   "metadata": {},
   "outputs": [
    {
     "name": "stdout",
     "output_type": "stream",
     "text": [
      "Best hyperparameters:  {'var_smoothing': 0.1873817422860384}\n",
      "Best accuracy:  0.5038520801232665\n",
      "after bagging F1 score:  0.70\n"
     ]
    }
   ],
   "source": [
    "from sklearn.model_selection import GridSearchCV\n",
    "\n",
    "param_grid = {'var_smoothing': np.logspace(0,-9, num=100)}\n",
    "\n",
    "gnb = GaussianNB()\n",
    "\n",
    "# Create a GridSearchCV object\n",
    "grid_search = GridSearchCV(gnb, param_grid=param_grid, cv=11)\n",
    "\n",
    "# Fit the GridSearchCV object to the training data\n",
    "grid_search.fit(X_train, y_train)\n",
    "y_pred = grid_search.predict(X_test)\n",
    "\n",
    "print(\"Best hyperparameters: \", grid_search.best_params_)\n",
    "print(\"Best accuracy: \", grid_search.best_score_)\n",
    "\n",
    "score_5 = metrics.f1_score(y_pred, y_test)\n",
    "print (\"after bagging F1 score: {: .2f}\".format(score_5))"
   ]
  },
  {
   "cell_type": "code",
   "execution_count": 38,
   "id": "34578ef6",
   "metadata": {},
   "outputs": [
    {
     "name": "stdout",
     "output_type": "stream",
     "text": [
      "              precision    recall  f1-score   support\n",
      "\n",
      "           0       0.56      0.39      0.46        69\n",
      "           1       0.64      0.78      0.70        96\n",
      "\n",
      "    accuracy                           0.62       165\n",
      "   macro avg       0.60      0.59      0.58       165\n",
      "weighted avg       0.61      0.62      0.60       165\n",
      "\n"
     ]
    }
   ],
   "source": [
    "print(classification_report(y_test, y_pred, labels=[0, 1]))"
   ]
  },
  {
   "cell_type": "markdown",
   "id": "e2033f74",
   "metadata": {},
   "source": [
    "#### Plotting confusion_matrix "
   ]
  },
  {
   "cell_type": "code",
   "execution_count": 39,
   "id": "5bcb9fb4",
   "metadata": {},
   "outputs": [
    {
     "data": {
      "text/plain": [
       "Text(95.72222222222221, 0.5, 'Truth')"
      ]
     },
     "execution_count": 39,
     "metadata": {},
     "output_type": "execute_result"
    },
    {
     "data": {
      "image/png": "[encoded data removed]",
      "text/plain": [
       "<Figure size 1000x700 with 2 Axes>"
      ]
     },
     "metadata": {},
     "output_type": "display_data"
    }
   ],
   "source": [
    "import seaborn as sn\n",
    "import matplotlib.pyplot as plt\n",
    "from sklearn.metrics import confusion_matrix\n",
    "cm = confusion_matrix(y_test, y_pred)\n",
    "plt.figure(figsize = (10, 7))\n",
    "sn.heatmap(cm, annot = True)\n",
    "plt.xlabel('predicted')\n",
    "plt.ylabel('Truth')"
   ]
  },
  {
   "cell_type": "markdown",
   "id": "73aa4b07",
   "metadata": {},
   "source": [
    "here the Grid Search leads to:\n",
    "> f1_score for class 1 become 70% insted of 63%\n",
    "\n",
    "\n",
    "> f1_score for class 0 become 46% insted of 47%\n",
    "\n",
    "\n",
    "So Grid Search also make the situation worth"
   ]
  },
  {
   "cell_type": "markdown",
   "id": "0fe32a1b",
   "metadata": {},
   "source": [
    "### Train multiple Naive Bayes models using bagging a manual way that increases the f1_score"
   ]
  },
  {
   "cell_type": "code",
   "execution_count": 40,
   "id": "5418b295",
   "metadata": {},
   "outputs": [
    {
     "name": "stdout",
     "output_type": "stream",
     "text": [
      "Ensemble Model Accuracy: 0.7674418604651162\n"
     ]
    }
   ],
   "source": [
    "# Number of models in the ensemble\n",
    "n_models = 10\n",
    "random_state_values = [4, 67, 28, 54, 26, 58, 2, 15, 31, 55]\n",
    "\n",
    "# List to store the models\n",
    "models = []\n",
    "\n",
    "# Train multiple Naive Bayes models using bagging\n",
    "for i in range(n_models):\n",
    "    # Create a random subset of the data with replacement       # 3 , 7 , 10 , 20        58 , 56 , 54 , 55 , 56 , 56 \n",
    "    xtrain,xtest, ytrain,ytest = train_test_split(X, y, test_size=0.2, random_state=random_state_values[i]) #55 , 47 ,  8  , 13 , 43 , 23 \n",
    "    \n",
    "    \n",
    "    # Create a  model\n",
    "    model = GaussianNB()\n",
    "    \n",
    "    # Train the model on the random subset\n",
    "    model.fit(xtrain, ytrain)\n",
    "    \n",
    "    # Add the model to the list\n",
    "    models.append(model)\n",
    "\n",
    "# Make predictions using the ensemble of models\n",
    "y_preds = np.zeros((len(xtest), n_models))\n",
    "for i, model in enumerate(models):\n",
    "    y_preds[:, i] = model.predict(xtest)\n",
    "\n",
    "# Final prediction using majority voting\n",
    "final_prediction = np.round(np.mean(y_preds, axis=1))\n",
    "\n",
    "# Evaluate the ensemble model's performance\n",
    "accuracy = metrics.accuracy_score(ytest, final_prediction)\n",
    "f1 = metrics.f1_score(ytest, final_prediction)\n",
    "print(\"Ensemble Model Accuracy:\", f1)"
   ]
  },
  {
   "cell_type": "code",
   "execution_count": 41,
   "id": "f463e939",
   "metadata": {},
   "outputs": [
    {
     "name": "stdout",
     "output_type": "stream",
     "text": [
      "              precision    recall  f1-score   support\n",
      "\n",
      "           0       0.81      0.69      0.75        85\n",
      "           1       0.72      0.82      0.77        80\n",
      "\n",
      "    accuracy                           0.76       165\n",
      "   macro avg       0.76      0.76      0.76       165\n",
      "weighted avg       0.76      0.76      0.76       165\n",
      "\n"
     ]
    }
   ],
   "source": [
    "print(classification_report(ytest, final_prediction, labels=[0, 1]))"
   ]
  },
  {
   "cell_type": "code",
   "execution_count": 42,
   "id": "b6a8fba1",
   "metadata": {},
   "outputs": [
    {
     "data": {
      "text/plain": [
       "Text(95.72222222222221, 0.5, 'Truth')"
      ]
     },
     "execution_count": 42,
     "metadata": {},
     "output_type": "execute_result"
    },
    {
     "data": {
      "image/png": "[encoded data removed]",
      "text/plain": [
       "<Figure size 1000x700 with 2 Axes>"
      ]
     },
     "metadata": {},
     "output_type": "display_data"
    }
   ],
   "source": [
    "import seaborn as sn\n",
    "import matplotlib.pyplot as plt\n",
    "from sklearn.metrics import confusion_matrix\n",
    "cm = confusion_matrix(ytest, final_prediction)\n",
    "plt.figure(figsize = (10, 7))\n",
    "sn.heatmap(cm, annot = True)\n",
    "plt.xlabel('predicted')\n",
    "plt.ylabel('Truth')"
   ]
  },
  {
   "cell_type": "markdown",
   "id": "3123cc12",
   "metadata": {},
   "source": [
    "even after this way givs the most perefect score, but we know that its not acceptable to get the best score as the result of 10 times training the model."
   ]
  },
  {
   "cell_type": "markdown",
   "id": "4bebf625",
   "metadata": {},
   "source": [
    "### now tring to cange the defualt values of the model it self"
   ]
  },
  {
   "cell_type": "code",
   "execution_count": 43,
   "id": "a809b9d9",
   "metadata": {},
   "outputs": [
    {
     "name": "stdout",
     "output_type": "stream",
     "text": [
      "F1 score:  0.7368421052631577\n"
     ]
    }
   ],
   "source": [
    "GNBM = GaussianNB(priors=[0.1, 0.9])\n",
    "GNBM.fit(X_train, y_train)\n",
    "y_pred = GNBM.predict(X_test)\n",
    "print('F1 score: ', metrics.f1_score(y_test,y_pred))"
   ]
  },
  {
   "cell_type": "code",
   "execution_count": 44,
   "id": "dd2de3c1",
   "metadata": {},
   "outputs": [
    {
     "name": "stdout",
     "output_type": "stream",
     "text": [
      "              precision    recall  f1-score   support\n",
      "\n",
      "           0       0.64      0.13      0.22        69\n",
      "           1       0.60      0.95      0.74        96\n",
      "\n",
      "    accuracy                           0.61       165\n",
      "   macro avg       0.62      0.54      0.48       165\n",
      "weighted avg       0.62      0.61      0.52       165\n",
      "\n"
     ]
    }
   ],
   "source": [
    "print(classification_report(y_test,y_pred, labels=[0, 1]))"
   ]
  },
  {
   "cell_type": "markdown",
   "id": "612da9b7",
   "metadata": {},
   "source": [
    "----------------------------------------------------------------------------------------------------------------------------------------------------------------------------------------------------------------"
   ]
  },
  {
   "cell_type": "code",
   "execution_count": 45,
   "id": "dfcd1bdc",
   "metadata": {},
   "outputs": [
    {
     "name": "stdout",
     "output_type": "stream",
     "text": [
      "F1 score:  0.7288135593220338\n"
     ]
    }
   ],
   "source": [
    "GNBM = GaussianNB(priors=[0.2, 0.8])\n",
    "GNBM.fit(X_train, y_train)\n",
    "y_pred = GNBM.predict(X_test)\n",
    "print('F1 score: ', metrics.f1_score(y_test,y_pred))"
   ]
  },
  {
   "cell_type": "code",
   "execution_count": 46,
   "id": "b3ba7880",
   "metadata": {},
   "outputs": [
    {
     "name": "stdout",
     "output_type": "stream",
     "text": [
      "              precision    recall  f1-score   support\n",
      "\n",
      "           0       0.60      0.22      0.32        69\n",
      "           1       0.61      0.90      0.73        96\n",
      "\n",
      "    accuracy                           0.61       165\n",
      "   macro avg       0.61      0.56      0.52       165\n",
      "weighted avg       0.61      0.61      0.56       165\n",
      "\n"
     ]
    }
   ],
   "source": [
    "print(classification_report(y_test,y_pred, labels=[0, 1]))"
   ]
  },
  {
   "cell_type": "markdown",
   "id": "265e0b83",
   "metadata": {},
   "source": [
    "bad results"
   ]
  },
  {
   "cell_type": "markdown",
   "id": "9d6dc16b",
   "metadata": {},
   "source": [
    "----------------------------------------------------------------------------------------------------------------------------------------------------------------------------------------------------------------"
   ]
  },
  {
   "cell_type": "code",
   "execution_count": 47,
   "id": "a880d6c7",
   "metadata": {},
   "outputs": [
    {
     "name": "stdout",
     "output_type": "stream",
     "text": [
      "F1 score:  0.7111111111111112\n"
     ]
    }
   ],
   "source": [
    "GNBM = GaussianNB(priors=[0.3, 0.7])\n",
    "GNBM.fit(X_train, y_train)\n",
    "y_pred = GNBM.predict(X_test)\n",
    "print('F1 score: ', metrics.f1_score(y_test,y_pred))"
   ]
  },
  {
   "cell_type": "code",
   "execution_count": 48,
   "id": "3181c698",
   "metadata": {},
   "outputs": [
    {
     "name": "stdout",
     "output_type": "stream",
     "text": [
      "              precision    recall  f1-score   support\n",
      "\n",
      "           0       0.56      0.29      0.38        69\n",
      "           1       0.62      0.83      0.71        96\n",
      "\n",
      "    accuracy                           0.61       165\n",
      "   macro avg       0.59      0.56      0.55       165\n",
      "weighted avg       0.59      0.61      0.57       165\n",
      "\n"
     ]
    }
   ],
   "source": [
    "print(classification_report(y_test,y_pred, labels=[0, 1]))"
   ]
  },
  {
   "cell_type": "markdown",
   "id": "f58a723f",
   "metadata": {},
   "source": [
    "bad results"
   ]
  },
  {
   "cell_type": "markdown",
   "id": "f1040f3f",
   "metadata": {},
   "source": [
    "----------------------------------------------------------------------------------------------------------------------------------------------------------------------------------------------------------------"
   ]
  },
  {
   "cell_type": "code",
   "execution_count": 49,
   "id": "a86549c2",
   "metadata": {},
   "outputs": [
    {
     "name": "stdout",
     "output_type": "stream",
     "text": [
      "F1 score:  0.735632183908046\n"
     ]
    }
   ],
   "source": [
    "GNBM = GaussianNB(priors=[0.3, 0.7], var_smoothing=1)\n",
    "GNBM.fit(X_train, y_train)\n",
    "y_pred = GNBM.predict(X_test)\n",
    "print('F1 score: ', metrics.f1_score(y_test,y_pred))"
   ]
  },
  {
   "cell_type": "code",
   "execution_count": 50,
   "id": "5d790c55",
   "metadata": {},
   "outputs": [
    {
     "name": "stdout",
     "output_type": "stream",
     "text": [
      "              precision    recall  f1-score   support\n",
      "\n",
      "           0       0.00      0.00      0.00        69\n",
      "           1       0.58      1.00      0.74        96\n",
      "\n",
      "    accuracy                           0.58       165\n",
      "   macro avg       0.29      0.50      0.37       165\n",
      "weighted avg       0.34      0.58      0.43       165\n",
      "\n"
     ]
    },
    {
     "name": "stderr",
     "output_type": "stream",
     "text": [
      "C:\\Users\\moham\\anaconda_true\\envs\\tensorflow_env\\lib\\site-packages\\sklearn\\metrics\\_classification.py:1344: UndefinedMetricWarning: Precision and F-score are ill-defined and being set to 0.0 in labels with no predicted samples. Use `zero_division` parameter to control this behavior.\n",
      "  _warn_prf(average, modifier, msg_start, len(result))\n",
      "C:\\Users\\moham\\anaconda_true\\envs\\tensorflow_env\\lib\\site-packages\\sklearn\\metrics\\_classification.py:1344: UndefinedMetricWarning: Precision and F-score are ill-defined and being set to 0.0 in labels with no predicted samples. Use `zero_division` parameter to control this behavior.\n",
      "  _warn_prf(average, modifier, msg_start, len(result))\n",
      "C:\\Users\\moham\\anaconda_true\\envs\\tensorflow_env\\lib\\site-packages\\sklearn\\metrics\\_classification.py:1344: UndefinedMetricWarning: Precision and F-score are ill-defined and being set to 0.0 in labels with no predicted samples. Use `zero_division` parameter to control this behavior.\n",
      "  _warn_prf(average, modifier, msg_start, len(result))\n"
     ]
    }
   ],
   "source": [
    "print(classification_report(y_test,y_pred, labels=[0, 1]))"
   ]
  },
  {
   "cell_type": "markdown",
   "id": "fe45586f",
   "metadata": {},
   "source": [
    "very bad results"
   ]
  },
  {
   "cell_type": "markdown",
   "id": "d56649e5",
   "metadata": {},
   "source": [
    "by continue trying different possible values we will not get ang good resu;ts, all is bad or at least one or two of them the same as one of the results we got befor"
   ]
  },
  {
   "cell_type": "markdown",
   "id": "b622b2e5",
   "metadata": {},
   "source": [
    "----------------------------------------------------------------------------------------------------------------------------------------------------------------------------------------------------------------"
   ]
  },
  {
   "cell_type": "markdown",
   "id": "a3667ff6",
   "metadata": {},
   "source": [
    "## BaggingClassifier to improve Naive Bayes f1_score"
   ]
  },
  {
   "cell_type": "code",
   "execution_count": 57,
   "id": "1e08f7d3",
   "metadata": {},
   "outputs": [
    {
     "name": "stdout",
     "output_type": "stream",
     "text": [
      "Bagging accuracy:  0.6060606060606061\n",
      "after bagging F1 score:  0.67\n"
     ]
    },
    {
     "name": "stderr",
     "output_type": "stream",
     "text": [
      "C:\\Users\\moham\\anaconda_true\\envs\\tensorflow_env\\lib\\site-packages\\sklearn\\ensemble\\_base.py:166: FutureWarning: `base_estimator` was renamed to `estimator` in version 1.2 and will be removed in 1.4.\n",
      "  warnings.warn(\n"
     ]
    }
   ],
   "source": [
    "# Create a bagging classifier                     13  , \n",
    "bagging = BaggingClassifier(base_estimator=GNBM, n_estimators=13, random_state=106)  # 50  ,  60  , 88  , 90  , 106..  , \n",
    "\n",
    "# Fit the bagging classifier to the training data\n",
    "bagging.fit(X_train, y_train)\n",
    "\n",
    "# Predict on the test data using the bagging classifier\n",
    "y_pred = bagging.predict(X_test)\n",
    "\n",
    "# Calculate the accuracy score of the bagging classifier\n",
    "accuracy = metrics.accuracy_score(y_test, y_pred)\n",
    "print(\"Bagging accuracy: \", accuracy)\n",
    "\n",
    "score_4 = metrics.f1_score(y_pred, y_test)\n",
    "print (\"after bagging F1 score: {: .2f}\".format(score_4))"
   ]
  },
  {
   "cell_type": "code",
   "execution_count": 58,
   "id": "a8347cee",
   "metadata": {},
   "outputs": [
    {
     "name": "stdout",
     "output_type": "stream",
     "text": [
      "              precision    recall  f1-score   support\n",
      "\n",
      "           0       0.53      0.49      0.51        69\n",
      "           1       0.65      0.69      0.67        96\n",
      "\n",
      "    accuracy                           0.61       165\n",
      "   macro avg       0.59      0.59      0.59       165\n",
      "weighted avg       0.60      0.61      0.60       165\n",
      "\n"
     ]
    }
   ],
   "source": [
    "print(classification_report(y_test, y_pred, labels=[0, 1]))"
   ]
  },
  {
   "cell_type": "markdown",
   "id": "1a63e3bc",
   "metadata": {},
   "source": [
    "this is the best scores ever, and the most balanced one"
   ]
  },
  {
   "cell_type": "markdown",
   "id": "c3580edf",
   "metadata": {},
   "source": [
    "## So acorrding to what mintioned in this noteboot the best acceptable result we got by appling BaggingClassifier to Gaussian Naive Bayes, which is:\n",
    "    67% for f1_score\n",
    "    61% for accuracy"
   ]
  }
 ],
 "metadata": {
  "kernelspec": {
   "display_name": "Python 3 (ipykernel)",
   "language": "python",
   "name": "python3"
  },
  "language_info": {
   "codemirror_mode": {
    "name": "ipython",
    "version": 3
   },
   "file_extension": ".py",
   "mimetype": "text/x-python",
   "name": "python",
   "nbconvert_exporter": "python",
   "pygments_lexer": "ipython3",
   "version": "3.10.11"
  }
 },
 "nbformat": 4,
 "nbformat_minor": 5
}
